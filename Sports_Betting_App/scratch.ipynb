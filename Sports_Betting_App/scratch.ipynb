{
 "cells": [
  {
   "cell_type": "code",
   "execution_count": 15,
   "metadata": {},
   "outputs": [
    {
     "name": "stdout",
     "output_type": "stream",
     "text": [
      "Remaining requests 380\n",
      "Used requests 120\n"
     ]
    }
   ],
   "source": [
    "import requests\n",
    "import os\n",
    "\n",
    "# An api key is emailed to you when you sign up to a plan\n",
    "# Get a free API key at https://api.the-odds-api.com/\n",
    "API_KEY = os.getenv('ODDS_API')\n",
    "\n",
    "SPORT = 'upcoming' # use the sport_key from the /sports endpoint below, or use 'upcoming' to see the next 8 games across all sports\n",
    "\n",
    "REGIONS = 'us' # uk | us | eu | au. Multiple can be specified if comma delimited\n",
    "\n",
    "MARKETS = 'h2h,spreads' # h2h | spreads | totals. Multiple can be specified if comma delimited\n",
    "\n",
    "ODDS_FORMAT = 'decimal' # decimal | american\n",
    "\n",
    "DATE_FORMAT = 'iso' # iso | unix\n",
    "\n",
    "odds_response = requests.get(\n",
    "    f'https://api.the-odds-api.com/v4/sports/{SPORT}/odds',\n",
    "    params={\n",
    "        'api_key': API_KEY,\n",
    "        'regions': REGIONS,\n",
    "        'markets': MARKETS,\n",
    "        'oddsFormat': ODDS_FORMAT,\n",
    "        'dateFormat': DATE_FORMAT,\n",
    "    }\n",
    ")\n",
    "    # Check the usage quota\n",
    "print('Remaining requests', odds_response.headers['x-requests-remaining'])\n",
    "print('Used requests', odds_response.headers['x-requests-used'])"
   ]
  },
  {
   "cell_type": "code",
   "execution_count": null,
   "metadata": {},
   "outputs": [],
   "source": [
    "import pandas as pd\n",
    "from sqlalchemy import create_engine, insert, Table, MetaData\n",
    "from sqlalchemy.exc import SQLAlchemyError\n",
    "import os\n",
    "import getters\n",
    "\n",
    "\n",
    "DATABASE_TYPE = os.getenv(\"DATABASE_TYPE\")\n",
    "DBAPI = os.getenv(\"DBAPI\")\n",
    "ENDPOINT = os.getenv(\"ENDPOINT\")\n",
    "USER = os.getenv(\"USER\")\n",
    "PASSWORD = os.getenv(\"PASSWD\")\n",
    "PORT = os.getenv(\"PORT\")\n",
    "DATABASE = os.getenv(\"DATABASE\")\n"
   ]
  },
  {
   "cell_type": "code",
   "execution_count": null,
   "metadata": {},
   "outputs": [],
   "source": [
    "def insert_user(name, email):\n",
    "    connection_string = f\"{DATABASE_TYPE}+{DBAPI}://{USER}:{PASSWORD}@{ENDPOINT}:{PORT}/{DATABASE}\"\n",
    "\n",
    "    try:\n",
    "        engine = create_engine(connection_string)\n",
    "\n",
    "        with engine.connect() as connection:\n",
    "            # Create an insert query\n",
    "            metadata = MetaData()\n",
    "\n",
    "            users_table = Table('users', metadata, autoload_with=engine)\n",
    "            insert_query = insert(users_table).values(email=f\"'{email}'\", name=f\"'{name}'\")\n",
    "            compiled = insert_query.compile()\n",
    "            result = connection.execute(insert_query)\n",
    "            connection.commit()\n",
    "            \n",
    "            user_id = result.inserted_primary_key[0]\n",
    "            return user_id\n",
    "\n",
    "    except SQLAlchemyError as e:\n",
    "        print(f\"Error interacting with the database: {e}\")\n",
    "        return None"
   ]
  },
  {
   "cell_type": "code",
   "execution_count": null,
   "metadata": {},
   "outputs": [],
   "source": [
    "insert_user(name='Fred Eglin1', email='feglin701@gmail.com')"
   ]
  },
  {
   "cell_type": "code",
   "execution_count": null,
   "metadata": {},
   "outputs": [],
   "source": [
    "def get_game_ids():\n",
    "    connection_string = f\"{DATABASE_TYPE}+{DBAPI}://{USER}:{PASSWORD}@{ENDPOINT}:{PORT}/{DATABASE}\"\n",
    "\n",
    "    try:\n",
    "        engine = create_engine(connection_string)\n",
    "    except Exception as e:\n",
    "        print(f\"Error creating engine: {e}\")\n",
    "\n",
    "    sql_query = \"\"\"\n",
    "    select odds.game_id from odds;\n",
    "    \"\"\"\n",
    "\n",
    "    game_ids_df = pd.read_sql(sql_query, con=engine)\n",
    "    \n",
    "    return game_ids_df"
   ]
  },
  {
   "cell_type": "code",
   "execution_count": null,
   "metadata": {},
   "outputs": [],
   "source": [
    "print(get_game_ids())"
   ]
  }
 ],
 "metadata": {
  "kernelspec": {
   "display_name": "analytics-u6B-IgN4-py3.12",
   "language": "python",
   "name": "python3"
  },
  "language_info": {
   "codemirror_mode": {
    "name": "ipython",
    "version": 3
   },
   "file_extension": ".py",
   "mimetype": "text/x-python",
   "name": "python",
   "nbconvert_exporter": "python",
   "pygments_lexer": "ipython3",
   "version": "3.12.0"
  }
 },
 "nbformat": 4,
 "nbformat_minor": 2
}
